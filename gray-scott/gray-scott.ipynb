{
 "cells": [
  {
   "cell_type": "code",
   "execution_count": 1,
   "metadata": {},
   "outputs": [],
   "source": [
    "import matplotlib.pyplot as plt\n",
    "import numpy as np\n",
    "from numba import jit\n",
    "from matplotlib import animation, rc"
   ]
  },
  {
   "cell_type": "code",
   "execution_count": 2,
   "metadata": {},
   "outputs": [],
   "source": [
    "@jit\n",
    "def laplacian(ix, iy, s):\n",
    "    ts = 0.0\n",
    "    ts += s[ix-1, iy]\n",
    "    ts += s[ix+1, iy]\n",
    "    ts += s[ix, iy-1]\n",
    "    ts += s[ix, iy+1]\n",
    "    ts -= 4.0*s[ix, iy]\n",
    "    return ts"
   ]
  },
  {
   "cell_type": "code",
   "execution_count": 3,
   "metadata": {},
   "outputs": [],
   "source": [
    "@jit\n",
    "def calc(u, v, u2, v2):\n",
    "    (L, _) = u.shape\n",
    "    dt = 0.2\n",
    "    F = 0.04\n",
    "    k = 0.06075\n",
    "    lu = np.zeros((L, L))\n",
    "    lv = np.zeros((L, L))\n",
    "    for ix in range(1, L-1):\n",
    "        for iy in range(1, L-1):\n",
    "            lu[ix, iy] = 0.1 * laplacian(ix, iy, u)\n",
    "            lv[ix, iy] = 0.05 * laplacian(ix, iy, v)\n",
    "    cu = -v*v*u + F*(1.0 - u)\n",
    "    cv = v*v*u - (F+k)*v\n",
    "    u2[:] = u + (lu+cu) * dt\n",
    "    v2[:] = v + (lv+cv) * dt"
   ]
  },
  {
   "cell_type": "code",
   "execution_count": 7,
   "metadata": {},
   "outputs": [],
   "source": [
    "@jit\n",
    "def simulation():\n",
    "    L = 64\n",
    "    u = np.zeros((L, L))\n",
    "    u2 = np.zeros((L, L))\n",
    "    v = np.zeros((L, L))\n",
    "    v2 = np.zeros((L, L))\n",
    "    h = L//2\n",
    "    r = []\n",
    "    u[h-6:h+6, h-6:h+6] = 0.9\n",
    "    v[h-3:h+3, h-3:h+3] = 0.7\n",
    "    for i in range(10000):\n",
    "        if i % 2 == 0:\n",
    "            calc(u, v, u2, v2)\n",
    "        else:\n",
    "            calc(u2, v2, u, v)\n",
    "        if i%100 == 0:\n",
    "            r.append(u.copy())\n",
    "    return r"
   ]
  },
  {
   "cell_type": "code",
   "execution_count": 12,
   "metadata": {},
   "outputs": [
    {
     "data": {
      "image/png": "[encoded data removed]",
      "text/plain": [
       "<Figure size 432x288 with 1 Axes>"
      ]
     },
     "metadata": {
      "needs_background": "light"
     },
     "output_type": "display_data"
    }
   ],
   "source": [
    "imgs = simulation()\n",
    "fig = plt.figure()\n",
    "im = plt.imshow(imgs[99], cmap=\"inferno\",vmin = 0, vmax = 0.8)"
   ]
  },
  {
   "cell_type": "code",
   "execution_count": null,
   "metadata": {},
   "outputs": [],
   "source": []
  }
 ],
 "metadata": {
  "kernelspec": {
   "display_name": "Python 3",
   "language": "python",
   "name": "python3"
  },
  "language_info": {
   "codemirror_mode": {
    "name": "ipython",
    "version": 3
   },
   "file_extension": ".py",
   "mimetype": "text/x-python",
   "name": "python",
   "nbconvert_exporter": "python",
   "pygments_lexer": "ipython3",
   "version": "3.7.0"
  }
 },
 "nbformat": 4,
 "nbformat_minor": 2
}
