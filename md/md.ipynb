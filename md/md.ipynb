{
 "cells": [
  {
   "cell_type": "code",
   "execution_count": null,
   "metadata": {},
   "outputs": [],
   "source": [
    "from PIL import Image, ImageDraw, ImageFont\n",
    "import numpy as np\n",
    "import matplotlib.pyplot as plt\n",
    "from matplotlib import animation, rc"
   ]
  },
  {
   "cell_type": "code",
   "execution_count": null,
   "metadata": {},
   "outputs": [],
   "source": [
    "def get_atoms(text, fontsize):\n",
    "    myfont = ImageFont.truetype(\"fonts/ipaexg.ttf\", fontsize)\n",
    "    img = Image.new('1', (200, 200), 'white')\n",
    "    draw = ImageDraw.Draw(img)\n",
    "    draw.text((10, 10), text, font=myfont)\n",
    "\n",
    "    w, h = img.size\n",
    "    rx = []\n",
    "    ry = []\n",
    "    for x in range(w):\n",
    "        for y in range(h):\n",
    "            v = img.getpixel((x, y))\n",
    "            if v is 0:\n",
    "                rx.append(float(x))\n",
    "                ry.append(h - float(y))\n",
    "    nx = np.array(rx)\n",
    "    ny = np.array(ry)\n",
    "    nx -= np.min(nx)\n",
    "    ny -= np.min(ny)\n",
    "    return nx, ny"
   ]
  },
  {
   "cell_type": "code",
   "execution_count": null,
   "metadata": {},
   "outputs": [],
   "source": [
    "def get_bonds(rx, ry):\n",
    "    n = len(rx)\n",
    "    bonds = []\n",
    "    for i in range(n-1):\n",
    "        for j in range(i + 1, n):\n",
    "            r2 = (rx[i] - rx[j]) ** 2 + (ry[i] - ry[j]) ** 2\n",
    "            if r2 < 3.1:\n",
    "                bonds.append((i, j, r2))\n",
    "    return bonds"
   ]
  },
  {
   "cell_type": "code",
   "execution_count": null,
   "metadata": {},
   "outputs": [],
   "source": [
    "def calculate(vx, vy, rx, ry, bonds):\n",
    "    dt = 0.01\n",
    "    G = 0.2\n",
    "    K = 1000.0\n",
    "\n",
    "    rx += vx * dt\n",
    "    ry += vy * dt\n",
    "    vy -= G * dt\n",
    "\n",
    "    for i, j, l in bonds:\n",
    "        dx = rx[j] - rx[i]\n",
    "        dy = ry[j] - ry[i]\n",
    "        r2 = dx ** 2 + dy ** 2\n",
    "        f = K * (r2 - l)\n",
    "        vx[i] += f*dx*dt\n",
    "        vy[i] += f*dy*dt\n",
    "        vx[j] -= f*dx*dt\n",
    "        vy[j] -= f*dy*dt\n",
    "\n",
    "    for i, y in enumerate(ry):\n",
    "        if y < 0.0:\n",
    "            vy[i] -= 10.0 * y * dt"
   ]
  },
  {
   "cell_type": "code",
   "execution_count": null,
   "metadata": {},
   "outputs": [],
   "source": [
    "def get_img(qx, qy, w, h):\n",
    "    img = np.zeros((h,w))\n",
    "    for x,y in zip(qx,qy):\n",
    "        x = int(x)\n",
    "        y = int(y)\n",
    "        if x in range(w) and y in range(h):\n",
    "            img[h-y-1][x] = 1.0\n",
    "    return img\n"
   ]
  },
  {
   "cell_type": "code",
   "execution_count": null,
   "metadata": {},
   "outputs": [],
   "source": [
    "def simulate(rx, ry, bonds):\n",
    "    vx = np.zeros_like(rx)\n",
    "    vy = np.zeros_like(rx)\n",
    "    w = np.max(rx).astype(np.int)\n",
    "    h = np.max(ry).astype(np.int)\n",
    "    imgs = []\n",
    "    for i in range(2000):\n",
    "        if i % 100 is 0:\n",
    "            img = get_img(rx, ry, w, h)\n",
    "            imgs.append(img.copy())\n",
    "            plt.imshow(img)\n",
    "            plt.show()\n",
    "        calculate(vx, vy, rx, ry, bonds)\n",
    "    return imgs"
   ]
  },
  {
   "cell_type": "code",
   "execution_count": null,
   "metadata": {},
   "outputs": [],
   "source": [
    "rx, ry = get_atoms(\"スパコン\",32)\n",
    "bonds = get_bonds(rx, ry)\n",
    "imgs = simulate(rx, ry, bonds)\n"
   ]
  },
  {
   "cell_type": "code",
   "execution_count": null,
   "metadata": {},
   "outputs": [],
   "source": [
    "fig = plt.figure()\n",
    "im = plt.imshow(imgs[0],cmap=\"plasma\")"
   ]
  },
  {
   "cell_type": "code",
   "execution_count": null,
   "metadata": {},
   "outputs": [],
   "source": [
    "def update(i):\n",
    "    im.set_array(imgs[i])\n",
    "\n",
    "ani = animation.FuncAnimation(fig, update,frames=len(imgs))\n",
    "rc('animation', html='jshtml')\n",
    "ani"
   ]
  },
  {
   "cell_type": "code",
   "execution_count": null,
   "metadata": {},
   "outputs": [],
   "source": []
  }
 ],
 "metadata": {
  "kernelspec": {
   "display_name": "Python 3",
   "language": "python",
   "name": "python3"
  },
  "language_info": {
   "codemirror_mode": {
    "name": "ipython",
    "version": 3
   },
   "file_extension": ".py",
   "mimetype": "text/x-python",
   "name": "python",
   "nbconvert_exporter": "python",
   "pygments_lexer": "ipython3",
   "version": "3.7.0"
  }
 },
 "nbformat": 4,
 "nbformat_minor": 2
}
