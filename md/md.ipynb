{
 "cells": [
  {
   "cell_type": "code",
   "execution_count": null,
   "metadata": {},
   "outputs": [],
   "source": [
    "from PIL import Image, ImageDraw, ImageFont\n",
    "import numpy as np\n",
    "import matplotlib.pyplot as plt\n",
    "from matplotlib import animation, rc"
   ]
  },
  {
   "cell_type": "code",
   "execution_count": null,
   "metadata": {},
   "outputs": [],
   "source": [
    "def get_atoms(text, fontsize):\n",
    "    myfont = ImageFont.truetype(\"fonts/ipaexg.ttf\", fontsize)\n",
    "    img = Image.new('1', (200, 200), 'white')\n",
    "    draw = ImageDraw.Draw(img)\n",
    "    draw.text((10, 10), text, font=myfont)\n",
    "\n",
    "    w, h = img.size\n",
    "    qx = []\n",
    "    qy = []\n",
    "    for x in range(w):\n",
    "        for y in range(h):\n",
    "            v = img.getpixel((x, y))\n",
    "            if v is 0:\n",
    "                qx.append(float(x))\n",
    "                qy.append(h - float(y))\n",
    "    nx = np.array(qx)\n",
    "    ny = np.array(qy)\n",
    "    nx -= np.min(nx)\n",
    "    ny -= np.min(ny)\n",
    "    return nx, ny"
   ]
  },
  {
   "cell_type": "code",
   "execution_count": null,
   "metadata": {},
   "outputs": [],
   "source": [
    "def get_bonds(qx, qy):\n",
    "    n = len(qx)\n",
    "    bonds = []\n",
    "    for i in range(n-1):\n",
    "        (xi, yi) = qx[i], qy[i]\n",
    "        for j in range(i + 1, n):\n",
    "            (xj, yj) = qx[j], qy[j]\n",
    "            r2 = (xi - xj) ** 2 + (yi - yj) ** 2\n",
    "            if r2 < 3.1:\n",
    "                bonds.append((i, j, r2))\n",
    "    return bonds"
   ]
  },
  {
   "cell_type": "code",
   "execution_count": null,
   "metadata": {},
   "outputs": [],
   "source": [
    "def calculate(vx, vy, qx, qy, bonds):\n",
    "    n = len(vx)\n",
    "    dt = 0.01\n",
    "    G = 0.2\n",
    "    K = 1000.0\n",
    "\n",
    "    qx += vx * dt\n",
    "    qy += vy * dt\n",
    "\n",
    "    for i, j, l in bonds:\n",
    "        dx = qx[j] - qx[i]\n",
    "        dy = qy[j] - qy[i]\n",
    "        r2 = dx ** 2 + dy ** 2\n",
    "        f = K * (r2 - l)\n",
    "        vx[i] += f*dx*dt\n",
    "        vy[i] += f*dy*dt\n",
    "        vx[j] -= f*dx*dt\n",
    "        vy[j] -= f*dy*dt\n",
    "\n",
    "    vy -= G * dt\n",
    "\n",
    "    for i in range(n):\n",
    "        if qy[i] < 0.0:\n",
    "            vy[i] -= 10.0 * qy[i] * dt"
   ]
  },
  {
   "cell_type": "code",
   "execution_count": null,
   "metadata": {},
   "outputs": [],
   "source": [
    "def simulate(qx, qy, bonds):\n",
    "    vx = np.zeros_like(qx)\n",
    "    vy = np.zeros_like(qx)\n",
    "    w = np.max(qx).astype(np.int)\n",
    "    h = np.max(qy).astype(np.int)\n",
    "    imgs = []\n",
    "    for i in range(2000):\n",
    "        if i % 100 is 0:\n",
    "            img = get_img(qx, qy, w, h)\n",
    "            imgs.append(img.copy())\n",
    "            plt.imshow(img)\n",
    "            plt.show()\n",
    "        calculate(vx, vy, qx, qy, bonds)\n",
    "    return imgs"
   ]
  },
  {
   "cell_type": "code",
   "execution_count": null,
   "metadata": {},
   "outputs": [],
   "source": [
    "def get_img(qx, qy, w, h):\n",
    "    img = np.zeros((h,w))\n",
    "    for x,y in zip(qx,qy):\n",
    "        x = int(x)\n",
    "        y = int(y)\n",
    "        if x in range(w) and y in range(h):\n",
    "            img[h-y-1][x] = 1.0\n",
    "    return img\n"
   ]
  },
  {
   "cell_type": "code",
   "execution_count": null,
   "metadata": {},
   "outputs": [],
   "source": [
    "qx, qy = get_atoms(\"スパコン\",32)\n",
    "bonds = get_bonds(qx, qy)\n",
    "%time imgs = simulate(qx, qy, bonds)\n"
   ]
  },
  {
   "cell_type": "code",
   "execution_count": null,
   "metadata": {},
   "outputs": [],
   "source": [
    "fig = plt.figure()\n",
    "im = plt.imshow(imgs[0],cmap=\"plasma\")"
   ]
  },
  {
   "cell_type": "code",
   "execution_count": null,
   "metadata": {},
   "outputs": [],
   "source": [
    "def update(i):\n",
    "    im.set_array(imgs[i])\n",
    "\n",
    "ani = animation.FuncAnimation(fig, update,frames=len(imgs))\n",
    "rc('animation', html='jshtml')\n",
    "ani"
   ]
  },
  {
   "cell_type": "code",
   "execution_count": null,
   "metadata": {},
   "outputs": [],
   "source": []
  }
 ],
 "metadata": {
  "kernelspec": {
   "display_name": "Python 3",
   "language": "python",
   "name": "python3"
  },
  "language_info": {
   "codemirror_mode": {
    "name": "ipython",
    "version": 3
   },
   "file_extension": ".py",
   "mimetype": "text/x-python",
   "name": "python",
   "nbconvert_exporter": "python",
   "pygments_lexer": "ipython3",
   "version": "3.7.0"
  }
 },
 "nbformat": 4,
 "nbformat_minor": 2
}
