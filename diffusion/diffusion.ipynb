{
 "cells": [
  {
   "cell_type": "code",
   "execution_count": null,
   "metadata": {},
   "outputs": [],
   "source": [
    "import matplotlib.pyplot as plt\n",
    "import numpy as np\n",
    "from numba import jit\n",
    "from matplotlib import animation, rc"
   ]
  },
  {
   "cell_type": "code",
   "execution_count": null,
   "metadata": {},
   "outputs": [],
   "source": [
    "@jit\n",
    "def laplacian(ix, iy, s):\n",
    "    ts = 0.0\n",
    "    ts += s[ix-1, iy]\n",
    "    ts += s[ix+1, iy]\n",
    "    ts += s[ix, iy-1]\n",
    "    ts += s[ix, iy+1]\n",
    "    ts -= 4.0*s[ix, iy]\n",
    "    return ts"
   ]
  },
  {
   "cell_type": "code",
   "execution_count": null,
   "metadata": {},
   "outputs": [],
   "source": [
    "@jit\n",
    "def calc(u, u2):\n",
    "    (L, _) = u.shape\n",
    "    dt = 0.2\n",
    "    Q = 1.0\n",
    "    for ix in range(1, L-1):\n",
    "        for iy in range(1, L-1):\n",
    "            u2[ix, iy] = u[ix,iy] + laplacian(ix, iy, u)*dt\n",
    "    h = L//2\n",
    "    u2[h-6:h+6, h-6:h+6] += Q*dt"
   ]
  },
  {
   "cell_type": "code",
   "execution_count": null,
   "metadata": {},
   "outputs": [],
   "source": [
    "@jit\n",
    "def simulation():\n",
    "    L = 32\n",
    "    u = np.zeros((L, L))\n",
    "    u2 = np.zeros((L, L))\n",
    "    r = []\n",
    "    for i in range(1000):\n",
    "        if i % 2 == 0:\n",
    "            calc(u, u2)\n",
    "        else:\n",
    "            calc(u2, u)\n",
    "        if i%10 == 0:\n",
    "            r.append(u.copy())\n",
    "    return r"
   ]
  },
  {
   "cell_type": "code",
   "execution_count": null,
   "metadata": {},
   "outputs": [],
   "source": [
    "imgs = simulation()\n",
    "fig = plt.figure()\n",
    "im = plt.imshow(imgs[99], cmap=\"inferno\",vmin = 0, vmax = 30)"
   ]
  },
  {
   "cell_type": "code",
   "execution_count": null,
   "metadata": {},
   "outputs": [],
   "source": [
    "def update(i):\n",
    "  im.set_array(imgs[i])\n",
    "  return im,\n",
    "\n",
    "ani = animation.FuncAnimation(fig, update, interval=50)\n",
    "rc('animation', html='jshtml')\n",
    "ani"
   ]
  },
  {
   "cell_type": "code",
   "execution_count": null,
   "metadata": {},
   "outputs": [],
   "source": []
  }
 ],
 "metadata": {
  "kernelspec": {
   "display_name": "Python 3",
   "language": "python",
   "name": "python3"
  },
  "language_info": {
   "codemirror_mode": {
    "name": "ipython",
    "version": 3
   },
   "file_extension": ".py",
   "mimetype": "text/x-python",
   "name": "python",
   "nbconvert_exporter": "python",
   "pygments_lexer": "ipython3",
   "version": "3.7.0"
  }
 },
 "nbformat": 4,
 "nbformat_minor": 2
}
